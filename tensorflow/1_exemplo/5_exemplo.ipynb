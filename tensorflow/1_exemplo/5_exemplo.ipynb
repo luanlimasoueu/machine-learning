{
 "cells": [
  {
   "cell_type": "code",
   "execution_count": 19,
   "metadata": {},
   "outputs": [],
   "source": [
    "import tensorflow as tf\n",
    "\n",
    "tf.compat.v1.disable_eager_execution()"
   ]
  },
  {
   "cell_type": "code",
   "execution_count": 20,
   "metadata": {},
   "outputs": [],
   "source": [
    "import numpy as np\n",
    "\n",
    "dados_x = np.random.rand(4,8)\n",
    "dados_w = np.random.rand(8,2)\n",
    "\n",
    "b = tf.compat.v1.random_normal((4,2), 0, 1)"
   ]
  },
  {
   "cell_type": "code",
   "execution_count": 21,
   "metadata": {},
   "outputs": [
    {
     "data": {
      "text/plain": [
       "array([[0.42274191, 0.9030164 , 0.88443202, 0.21906941, 0.69979236,\n",
       "        0.88917345, 0.50707777, 0.4873314 ],\n",
       "       [0.42602453, 0.6535987 , 0.25438368, 0.03744809, 0.35362219,\n",
       "        0.36421157, 0.02038412, 0.00532847],\n",
       "       [0.48997224, 0.68764763, 0.72621209, 0.43105688, 0.55372155,\n",
       "        0.54261073, 0.2851798 , 0.20182252],\n",
       "       [0.60428743, 0.71751442, 0.3973065 , 0.18809594, 0.24896135,\n",
       "        0.39246703, 0.93321317, 0.949598  ]])"
      ]
     },
     "execution_count": 21,
     "metadata": {},
     "output_type": "execute_result"
    }
   ],
   "source": [
    "dados_x "
   ]
  },
  {
   "cell_type": "code",
   "execution_count": 22,
   "metadata": {},
   "outputs": [
    {
     "data": {
      "text/plain": [
       "array([[0.17339808, 0.73520329],\n",
       "       [0.38271336, 0.72053691],\n",
       "       [0.09626372, 0.9505132 ],\n",
       "       [0.519634  , 0.3865556 ],\n",
       "       [0.692077  , 0.73751573],\n",
       "       [0.3381137 , 0.1849736 ],\n",
       "       [0.54299264, 0.50752392],\n",
       "       [0.09062882, 0.26188432]])"
      ]
     },
     "execution_count": 22,
     "metadata": {},
     "output_type": "execute_result"
    }
   ],
   "source": [
    "dados_w "
   ]
  },
  {
   "cell_type": "code",
   "execution_count": 23,
   "metadata": {},
   "outputs": [
    {
     "data": {
      "text/plain": [
       "<tf.Tensor 'random_normal_1:0' shape=(4, 2) dtype=float32>"
      ]
     },
     "execution_count": 23,
     "metadata": {},
     "output_type": "execute_result"
    }
   ],
   "source": [
    "b"
   ]
  },
  {
   "cell_type": "code",
   "execution_count": 26,
   "metadata": {},
   "outputs": [],
   "source": [
    "x = tf.compat.v1.placeholder(tf.float32, shape = (4,8))\n",
    "w = tf.compat.v1.placeholder(tf.float32, shape = (8,2))\n",
    "\n",
    "operacao = tf.matmul(x, w) +b"
   ]
  },
  {
   "cell_type": "code",
   "execution_count": 27,
   "metadata": {},
   "outputs": [
    {
     "data": {
      "text/plain": [
       "<tf.Tensor 'add:0' shape=(4, 2) dtype=float32>"
      ]
     },
     "execution_count": 27,
     "metadata": {},
     "output_type": "execute_result"
    }
   ],
   "source": [
    "operacao"
   ]
  },
  {
   "cell_type": "code",
   "execution_count": 28,
   "metadata": {},
   "outputs": [],
   "source": [
    "maximo =  tf.reduce_max(operacao)"
   ]
  },
  {
   "cell_type": "code",
   "execution_count": 29,
   "metadata": {},
   "outputs": [
    {
     "data": {
      "text/plain": [
       "<tf.Tensor 'Max:0' shape=() dtype=float32>"
      ]
     },
     "execution_count": 29,
     "metadata": {},
     "output_type": "execute_result"
    }
   ],
   "source": [
    "maximo "
   ]
  },
  {
   "cell_type": "code",
   "execution_count": 30,
   "metadata": {},
   "outputs": [],
   "source": [
    "with tf.compat.v1.Session() as sess:\n",
    "    saida1 = sess.run(operacao, feed_dict={ x: dados_x, w: dados_w})\n",
    "    saida2 = sess.run(maximo,feed_dict={ x: dados_x, w: dados_w})"
   ]
  },
  {
   "cell_type": "code",
   "execution_count": 31,
   "metadata": {},
   "outputs": [
    {
     "data": {
      "text/plain": [
       "array([[2.9398866, 2.448795 ],\n",
       "       [2.3000307, 1.1578636],\n",
       "       [2.152633 , 2.5694406],\n",
       "       [2.0004296, 4.8667364]], dtype=float32)"
      ]
     },
     "execution_count": 31,
     "metadata": {},
     "output_type": "execute_result"
    }
   ],
   "source": [
    "saida1 "
   ]
  },
  {
   "cell_type": "code",
   "execution_count": 32,
   "metadata": {},
   "outputs": [
    {
     "data": {
      "text/plain": [
       "4.479726"
      ]
     },
     "execution_count": 32,
     "metadata": {},
     "output_type": "execute_result"
    }
   ],
   "source": [
    "saida2 "
   ]
  },
  {
   "cell_type": "code",
   "execution_count": 34,
   "metadata": {},
   "outputs": [
    {
     "name": "stdout",
     "output_type": "stream",
     "text": [
      "[4.7039742, 2.0571682, 2.8754506, 3.0911705, 2.7878373]\n"
     ]
    }
   ],
   "source": [
    "import numpy as np\n",
    "\n",
    "x1 = np.random.randn(4,8)  \n",
    "w1 = np.random.randn(8,2)  \n",
    "\n",
    "x2 = np.random.randn(4,8)  \n",
    "w2 = np.random.randn(8,2)\n",
    "\n",
    "x3 = np.random.randn(10,3)  \n",
    "w3 = np.random.randn(3,1)\n",
    "\n",
    "x4 = np.random.randn(4,8)  \n",
    "w4 = np.random.randn(8,2)\n",
    "\n",
    "x5 = np.random.randn(4,8)  \n",
    "w5 = np.random.randn(8,2)\n",
    "\n",
    "lista_x = [x1, x2, x3, x4, x5]\n",
    "lista_w = [w1, w2, w3, w4, w5]\n",
    "lista_saida = []\n",
    "\n",
    "b = tf.compat.v1.random_normal((4,2),0,1)   # cria matriz (tensor) de 4 linhas e 2 colunas com números aleatórios\n",
    "\n",
    "x = tf.compat.v1.placeholder(tf.float32, shape=(None, None))\n",
    "w = tf.compat.v1.placeholder(tf.float32, shape=(None, None))\n",
    "operacao = tf.matmul(x, w)\n",
    "\n",
    "maximo = tf.reduce_max(operacao) # encontra o maior valor da matriz operacao\n",
    "\n",
    "with tf.compat.v1.Session() as sess:\n",
    "    for i in range(5):\n",
    "        saida = sess.run(maximo, feed_dict={x: lista_x[i], w: lista_w[i]})\n",
    "        lista_saida.append(saida)\n",
    "print(lista_saida)"
   ]
  }
 ],
 "metadata": {
  "kernelspec": {
   "display_name": "Python 3",
   "language": "python",
   "name": "python3"
  },
  "language_info": {
   "codemirror_mode": {
    "name": "ipython",
    "version": 3
   },
   "file_extension": ".py",
   "mimetype": "text/x-python",
   "name": "python",
   "nbconvert_exporter": "python",
   "pygments_lexer": "ipython3",
   "version": "3.10.7"
  }
 },
 "nbformat": 4,
 "nbformat_minor": 2
}
