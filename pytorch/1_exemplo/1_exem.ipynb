{
 "cells": [
  {
   "cell_type": "code",
   "execution_count": 2,
   "metadata": {},
   "outputs": [],
   "source": [
    "import torch\n",
    "from torch import nn\n",
    "import random"
   ]
  },
  {
   "cell_type": "code",
   "execution_count": 3,
   "metadata": {},
   "outputs": [],
   "source": [
    "def mystery(a, b):\n",
    "    return torch.tensor(a+3*b)\n"
   ]
  },
  {
   "cell_type": "code",
   "execution_count": 4,
   "metadata": {},
   "outputs": [
    {
     "data": {
      "text/plain": [
       "Sequential(\n",
       "  (0): Linear(in_features=2, out_features=1, bias=True)\n",
       ")"
      ]
     },
     "execution_count": 4,
     "metadata": {},
     "output_type": "execute_result"
    }
   ],
   "source": [
    "model = nn.Sequential(nn.Linear(2,1))\n",
    "model"
   ]
  },
  {
   "cell_type": "code",
   "execution_count": 6,
   "metadata": {},
   "outputs": [],
   "source": [
    "criterion = nn.MSELoss()\n",
    "optimizer = torch.optim.SGD(model.parameters(), lr=0.01, momentum=0.9)"
   ]
  },
  {
   "cell_type": "code",
   "execution_count": 7,
   "metadata": {},
   "outputs": [
    {
     "name": "stdout",
     "output_type": "stream",
     "text": [
      "Loss: 3.078868865966797\n",
      "Loss: 4.910663604736328\n",
      "Loss: 0.24731111526489258\n",
      "Loss: 1.484763741493225\n",
      "Loss: 4.767077922821045\n",
      "Loss: 0.02550429105758667\n",
      "Loss: 4.4268364906311035\n",
      "Loss: 0.0596199557185173\n",
      "Loss: 7.596165657043457\n",
      "Loss: 1.7305854558944702\n"
     ]
    }
   ],
   "source": [
    "for i in range(1000):\n",
    "    \n",
    "    a = random.random()\n",
    "    b = random.random()\n",
    "\n",
    "    desiredOutput = mystery(a, b)\n",
    "\n",
    "    output = model(torch.tensor([a, b]))\n",
    "    loss = criterion(output.squeeze(), desiredOutput)\n",
    "\n",
    "    if (i%100) ==0:\n",
    "        print(f\"Loss: {loss.item()}\")\n",
    "\n",
    "optimizer.zero_grad()\n",
    "loss.backward()\n",
    "optimizer.step()"
   ]
  }
 ],
 "metadata": {
  "kernelspec": {
   "display_name": "Python 3",
   "language": "python",
   "name": "python3"
  },
  "language_info": {
   "codemirror_mode": {
    "name": "ipython",
    "version": 3
   },
   "file_extension": ".py",
   "mimetype": "text/x-python",
   "name": "python",
   "nbconvert_exporter": "python",
   "pygments_lexer": "ipython3",
   "version": "3.10.7"
  }
 },
 "nbformat": 4,
 "nbformat_minor": 2
}
