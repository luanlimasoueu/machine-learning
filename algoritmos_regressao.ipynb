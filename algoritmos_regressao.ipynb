{
 "cells": [
  {
   "cell_type": "markdown",
   "metadata": {},
   "source": [
    "1. Linear Regression  \n",
    "2. Ridge Regression  \n",
    "3. Lasso Regression   \n",
    "4. Decision Tree Regression  \n",
    "5. Random Forest Regressor \n",
    "6. Support Vector Machines (SVM) Regression \n",
    "7. Gausian Regression  \n",
    "8. KNeighborsRegressor  \n",
    "9. AdaBoost Regression \n",
    "10. Extra Trees Regression \n",
    "11. Bayesian Ridge Regression \n",
    "12. Kernel Ridge Regression \n",
    "13. BaggingRegressor \n",
    "14. MLPRegressor \n",
    "15. HistGradientBoostingRegressor\n",
    "16. StackingRegressor \n",
    "17. Gradient Boosting Regressor \n",
    "18. IsolationForest \n",
    "19. StackingRegressor \n",
    "20. HuberRegressor \n",
    "21. RANSACRegressor "
   ]
  },
  {
   "cell_type": "code",
   "execution_count": 1,
   "metadata": {},
   "outputs": [
    {
     "data": {
      "text/plain": [
       "0.2727266902819745"
      ]
     },
     "execution_count": 1,
     "metadata": {},
     "output_type": "execute_result"
    }
   ],
   "source": [
    "ExtraTreesRegressor\n",
    "from sklearn.datasets import load_diabetes\n",
    "from sklearn.model_selection import train_test_split\n",
    "from sklearn.ensemble import ExtraTreesRegressor\n",
    "X, y = load_diabetes(return_X_y=True)\n",
    "X_train, X_test, y_train, y_test = train_test_split( X, y, random_state=0)\n",
    "reg = ExtraTreesRegressor(n_estimators=100, random_state=0).fit(X_train, y_train)\n",
    "reg.score(X_test, y_test)"
   ]
  }
 ],
 "metadata": {
  "kernelspec": {
   "display_name": "Python 3",
   "language": "python",
   "name": "python3"
  },
  "language_info": {
   "codemirror_mode": {
    "name": "ipython",
    "version": 3
   },
   "file_extension": ".py",
   "mimetype": "text/x-python",
   "name": "python",
   "nbconvert_exporter": "python",
   "pygments_lexer": "ipython3",
   "version": "3.10.7"
  }
 },
 "nbformat": 4,
 "nbformat_minor": 2
}
