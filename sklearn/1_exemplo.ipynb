{
 "cells": [
  {
   "cell_type": "code",
   "execution_count": 149,
   "metadata": {},
   "outputs": [],
   "source": [
    "from sklearn.feature_extraction.text import TfidfVectorizer\n",
    "from sklearn.model_selection import train_test_split\n",
    "from sklearn.svm import LinearSVC"
   ]
  },
  {
   "cell_type": "code",
   "execution_count": 176,
   "metadata": {},
   "outputs": [
    {
     "name": "stdout",
     "output_type": "stream",
     "text": [
      "['pe']\n"
     ]
    },
    {
     "name": "stderr",
     "output_type": "stream",
     "text": [
      "c:\\Users\\Luan Lima\\AppData\\Local\\Programs\\Python\\Python310\\lib\\site-packages\\sklearn\\svm\\_classes.py:32: FutureWarning: The default value of `dual` will change from `True` to `'auto'` in 1.5. Set the value of `dual` explicitly to suppress the warning.\n",
      "  warnings.warn(\n"
     ]
    }
   ],
   "source": [
    "texts = [\n",
    "\"Moro em João Pessoa\",\n",
    "\"Moro em Teresina\",\n",
    "\"JP 100\",\n",
    "\"rECIFE\",\n",
    "\"PE\",\n",
    "\"JP\",\n",
    "\"100\"\n",
    "]\n",
    "labels = [\"pb\", \"pi\", \"PB\", \"pe\", \"PE\", \"PB\", \"pb\"]\n",
    "vectorizer = TfidfVectorizer()\n",
    "\n",
    "features = vectorizer.fit_transform(texts)\n",
    "\n",
    "X_train, X_test, y_train, y_test = train_test_split(features,labels)\n",
    "\n",
    "model = LinearSVC()\n",
    "\n",
    "model.fit(X_train, y_train )\n",
    "\n",
    "model.score(X_test,y_test )\n",
    "\n",
    "data = vectorizer.transform([\"100\"]).toarray()\n",
    "\n",
    "data = model.predict(data)\n",
    "\n",
    "print(data)"
   ]
  }
 ],
 "metadata": {
  "kernelspec": {
   "display_name": "Python 3",
   "language": "python",
   "name": "python3"
  },
  "language_info": {
   "codemirror_mode": {
    "name": "ipython",
    "version": 3
   },
   "file_extension": ".py",
   "mimetype": "text/x-python",
   "name": "python",
   "nbconvert_exporter": "python",
   "pygments_lexer": "ipython3",
   "version": "3.10.7"
  }
 },
 "nbformat": 4,
 "nbformat_minor": 2
}
