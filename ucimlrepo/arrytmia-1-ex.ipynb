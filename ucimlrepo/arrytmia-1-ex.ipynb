{
 "cells": [
  {
   "cell_type": "code",
   "execution_count": null,
   "metadata": {},
   "outputs": [],
   "source": [
    "https://datahub.io/machine-learning/arrhythmia/r/1.html\n",
    "\n",
    "\n",
    "import pandas as pd\n",
    "import io\n",
    "import requests\n",
    "url=\"https://raw.githubusercontent.com/cs109/2014_data/master/countries.csv\"\n",
    "s=requests.get(url).content\n",
    "c=pd.read_csv(io.StringIO(s.decode('utf-8')))\n"
   ]
  },
  {
   "cell_type": "code",
   "execution_count": 3,
   "metadata": {},
   "outputs": [],
   "source": [
    "import pandas as pd\n",
    "import numpy as np\n",
    "import os\n",
    "import matplotlib.pyplot as plt\n",
    "import seaborn as sns "
   ]
  },
  {
   "cell_type": "code",
   "execution_count": 9,
   "metadata": {},
   "outputs": [],
   "source": [
    "dados = pd.read_csv('../dados/arrhythmia.csv')"
   ]
  },
  {
   "cell_type": "code",
   "execution_count": 12,
   "metadata": {},
   "outputs": [
    {
     "data": {
      "text/plain": [
       "array(['age', 'sex', 'height', 'weight', 'QRSduration', 'PRinterval',\n",
       "       'Q-Tinterval', 'Tinterval', 'Pinterval', 'QRS', 'T', 'P', 'QRST',\n",
       "       'J', 'heartrate', 'chDI_Qwave', 'chDI_Rwave', 'chDI_Swave',\n",
       "       'chDI_RPwave', 'chDI_SPwave', 'chDI_intrinsicReflecttions',\n",
       "       'chDI_RRwaveExists', 'chDI_DD_RRwaveExists', 'chDI_RPwaveExists',\n",
       "       'chDI_DD_RPwaveExists', 'chDI_RTwaveExists',\n",
       "       'chDI_DD_RTwaveExists', 'chDII_Qwave', 'chDII_Rwave',\n",
       "       'chDII_Swave', 'chDII_RPwave', 'chDII_SPwave',\n",
       "       'chDII_intrinsicReflecttions', 'chDII_RRwaveExists',\n",
       "       'chDII_DD_RRwaveExists', 'chDII_RPwaveExists',\n",
       "       'chDII_DD_RPwaveExists', 'chDII_RTwaveExists',\n",
       "       'chDII_DD_RTwaveExists', 'chDIII_Qwave', 'chDIII_Rwave',\n",
       "       'chDIII_Swave', 'chDIII_RPwave', 'chDIII_SPwave',\n",
       "       'chDIII_intrinsicReflecttions', 'chDIII_RRwaveExists',\n",
       "       'chDIII_DD_RRwaveExists', 'chDIII_RPwaveExists',\n",
       "       'chDIII_DD_RPwaveExists', 'chDIII_RTwaveExists',\n",
       "       'chDIII_DD_RTwaveExists', 'chAVR_Qwave', 'chAVR_Rwave',\n",
       "       'chAVR_Swave', 'chAVR_RPwave', 'chAVR_SPwave',\n",
       "       'chAVR_intrinsicReflecttions', 'chAVR_RRwaveExists',\n",
       "       'chAVR_DD_RRwaveExists', 'chAVR_RPwaveExists',\n",
       "       'chAVR_DD_RPwaveExists', 'chAVR_RTwaveExists',\n",
       "       'chAVR_DD_RTwaveExists', 'chAVL_Qwave', 'chAVL_Rwave',\n",
       "       'chAVL_Swave', 'chAVL_RPwave', 'chAVL_SPwave',\n",
       "       'chAVL_intrinsicReflecttions', 'chAVL_RRwaveExists',\n",
       "       'chAVL_DD_RRwaveExists', 'chAVL_RPwaveExists',\n",
       "       'chAVL_DD_RPwaveExists', 'chAVL_RTwaveExists',\n",
       "       'chAVL_DD_RTwaveExists', 'chAVF_Qwave', 'chAVF_Rwave',\n",
       "       'chAVF_Swave', 'chAVF_RPwave', 'chAVF_SPwave',\n",
       "       'chAVF_intrinsicReflecttions', 'chAVF_RRwaveExists',\n",
       "       'chAVF_DD_RRwaveExists', 'chAVF_RPwaveExists',\n",
       "       'chAVF_DD_RPwaveExists', 'chAVF_RTwaveExists',\n",
       "       'chAVF_DD_RTwaveExists', 'chV1_Qwave', 'chV1_Rwave', 'chV1_Swave',\n",
       "       'chV1_RPwave', 'chV1_SPwave', 'chV1_intrinsicReflecttions',\n",
       "       'chV1_RRwaveExists', 'chV1_DD_RRwaveExists', 'chV1_RPwaveExists',\n",
       "       'chV1_DD_RPwaveExists', 'chV1_RTwaveExists',\n",
       "       'chV1_DD_RTwaveExists', 'chV2_Qwave', 'chV2_Rwave', 'chV2_Swave',\n",
       "       'chV2_RPwave', 'chV2_SPwave', 'chV2_intrinsicReflecttions',\n",
       "       'chV2_RRwaveExists', 'chV2_DD_RRwaveExists', 'chV2_RPwaveExists',\n",
       "       'chV2_DD_RPwaveExists', 'chV2_RTwaveExists',\n",
       "       'chV2_DD_RTwaveExists', 'chV3_Qwave', 'chV3_Rwave', 'chV3_Swave',\n",
       "       'chV3_RPwave', 'chV3_SPwave', 'chV3_intrinsicReflecttions',\n",
       "       'chV3_RRwaveExists', 'chV3_DD_RRwaveExists', 'chV3_RPwaveExists',\n",
       "       'chV3_DD_RPwaveExists', 'chV3_RTwaveExists',\n",
       "       'chV3_DD_RTwaveExists', 'chV4_Qwave', 'chV4_Rwave', 'chV4_Swave',\n",
       "       'chV4_RPwave', 'chV4_SPwave', 'chV4_intrinsicReflecttions',\n",
       "       'chV4_RRwaveExists', 'chV4_DD_RRwaveExists', 'chV4_RPwaveExists',\n",
       "       'chV4_DD_RPwaveExists', 'chV4_RTwaveExists',\n",
       "       'chV4_DD_RTwaveExists', 'chV5_Qwave', 'chV5_Rwave', 'chV5_Swave',\n",
       "       'chV5_RPwave', 'chV5_SPwave', 'chV5_intrinsicReflecttions',\n",
       "       'chV5_RRwaveExists', 'chV5_DD_RRwaveExists', 'chV5_RPwaveExists',\n",
       "       'chV5_DD_RPwaveExists', 'chV5_RTwaveExists',\n",
       "       'chV5_DD_RTwaveExists', 'chV6_Qwave', 'chV6_Rwave', 'chV6_Swave',\n",
       "       'chV6_RPwave', 'chV6_SPwave', 'chV6_intrinsicReflecttions',\n",
       "       'chV6_RRwaveExists', 'chV6_DD_RRwaveExists', 'chV6_RPwaveExists',\n",
       "       'chV6_DD_RPwaveExists', 'chV6_RTwaveExists',\n",
       "       'chV6_DD_RTwaveExists', 'chDI_JJwaveAmp', 'chDI_QwaveAmp',\n",
       "       'chDI_RwaveAmp', 'chDI_SwaveAmp', 'chDI_RPwaveAmp',\n",
       "       'chDI_SPwaveAmp', 'chDI_PwaveAmp', 'chDI_TwaveAmp', 'chDI_QRSA',\n",
       "       'chDI_QRSTA', 'chDII_JJwaveAmp', 'chDII_QwaveAmp',\n",
       "       'chDII_RwaveAmp', 'chDII_SwaveAmp', 'chDII_RPwaveAmp',\n",
       "       'chDII_SPwaveAmp', 'chDII_PwaveAmp', 'chDII_TwaveAmp',\n",
       "       'chDII_QRSA', 'chDII_QRSTA', 'chDIII_JJwaveAmp', 'chDIII_QwaveAmp',\n",
       "       'chDIII_RwaveAmp', 'chDIII_SwaveAmp', 'chDIII_RPwaveAmp',\n",
       "       'chDIII_SPwaveAmp', 'chDIII_PwaveAmp', 'chDIII_TwaveAmp',\n",
       "       'chDIII_QRSA', 'chDIII_QRSTA', 'chAVR_JJwaveAmp', 'chAVR_QwaveAmp',\n",
       "       'chAVR_RwaveAmp', 'chAVR_SwaveAmp', 'chAVR_RPwaveAmp',\n",
       "       'chAVR_SPwaveAmp', 'chAVR_PwaveAmp', 'chAVR_TwaveAmp',\n",
       "       'chAVR_QRSA', 'chAVR_QRSTA', 'chAVL_JJwaveAmp', 'chAVL_QwaveAmp',\n",
       "       'chAVL_RwaveAmp', 'chAVL_SwaveAmp', 'chAVL_RPwaveAmp',\n",
       "       'chAVL_SPwaveAmp', 'chAVL_PwaveAmp', 'chAVL_TwaveAmp',\n",
       "       'chAVL_QRSA', 'chAVL_QRSTA', 'chAVF_JJwaveAmp', 'chAVF_QwaveAmp',\n",
       "       'chAVF_RwaveAmp', 'chAVF_SwaveAmp', 'chAVF_RPwaveAmp',\n",
       "       'chAVF_SPwaveAmp', 'chAVF_PwaveAmp', 'chAVF_TwaveAmp',\n",
       "       'chAVF_QRSA', 'chAVF_QRSTA', 'chV1_JJwaveAmp', 'chV1_QwaveAmp',\n",
       "       'chV1_RwaveAmp', 'chV1_SwaveAmp', 'chV1_RPwaveAmp',\n",
       "       'chV1_SPwaveAmp', 'chV1_PwaveAmp', 'chV1_TwaveAmp', 'chV1_QRSA',\n",
       "       'chV1_QRSTA', 'chV2_JJwaveAmp', 'chV2_QwaveAmp', 'chV2_RwaveAmp',\n",
       "       'chV2_SwaveAmp', 'chV2_RPwaveAmp', 'chV2_SPwaveAmp',\n",
       "       'chV2_PwaveAmp', 'chV2_TwaveAmp', 'chV2_QRSA', 'chV2_QRSTA',\n",
       "       'chV3_JJwaveAmp', 'chV3_QwaveAmp', 'chV3_RwaveAmp',\n",
       "       'chV3_SwaveAmp', 'chV3_RPwaveAmp', 'chV3_SPwaveAmp',\n",
       "       'chV3_PwaveAmp', 'chV3_TwaveAmp', 'chV3_QRSA', 'chV3_QRSTA',\n",
       "       'chV4_JJwaveAmp', 'chV4_QwaveAmp', 'chV4_RwaveAmp',\n",
       "       'chV4_SwaveAmp', 'chV4_RPwaveAmp', 'chV4_SPwaveAmp',\n",
       "       'chV4_PwaveAmp', 'chV4_TwaveAmp', 'chV4_QRSA', 'chV4_QRSTA',\n",
       "       'chV5_JJwaveAmp', 'chV5_QwaveAmp', 'chV5_RwaveAmp',\n",
       "       'chV5_SwaveAmp', 'chV5_RPwaveAmp', 'chV5_SPwaveAmp',\n",
       "       'chV5_PwaveAmp', 'chV5_TwaveAmp', 'chV5_QRSA', 'chV5_QRSTA',\n",
       "       'chV6_JJwaveAmp', 'chV6_QwaveAmp', 'chV6_RwaveAmp',\n",
       "       'chV6_SwaveAmp', 'chV6_RPwaveAmp', 'chV6_SPwaveAmp',\n",
       "       'chV6_PwaveAmp', 'chV6_TwaveAmp', 'chV6_QRSA', 'chV6_QRSTA',\n",
       "       'class'], dtype=object)"
      ]
     },
     "execution_count": 12,
     "metadata": {},
     "output_type": "execute_result"
    }
   ],
   "source": [
    "dados.columns.values"
   ]
  },
  {
   "cell_type": "code",
   "execution_count": 15,
   "metadata": {},
   "outputs": [],
   "source": [
    "dados = dados[['age', 'sex', 'height', 'weight', 'QRSduration', 'PRinterval',\n",
    "       'Q-Tinterval', 'Tinterval', 'Pinterval', 'QRS', 'T', 'P', 'QRST',\n",
    "       'J', 'heartrate', 'class']]"
   ]
  },
  {
   "cell_type": "code",
   "execution_count": 17,
   "metadata": {},
   "outputs": [
    {
     "name": "stdout",
     "output_type": "stream",
     "text": [
      "<class 'pandas.core.frame.DataFrame'>\n",
      "RangeIndex: 452 entries, 0 to 451\n",
      "Data columns (total 16 columns):\n",
      " #   Column       Non-Null Count  Dtype  \n",
      "---  ------       --------------  -----  \n",
      " 0   age          452 non-null    int64  \n",
      " 1   sex          452 non-null    int64  \n",
      " 2   height       452 non-null    int64  \n",
      " 3   weight       452 non-null    int64  \n",
      " 4   QRSduration  452 non-null    int64  \n",
      " 5   PRinterval   452 non-null    int64  \n",
      " 6   Q-Tinterval  452 non-null    int64  \n",
      " 7   Tinterval    452 non-null    int64  \n",
      " 8   Pinterval    452 non-null    int64  \n",
      " 9   QRS          452 non-null    int64  \n",
      " 10  T            444 non-null    float64\n",
      " 11  P            430 non-null    float64\n",
      " 12  QRST         451 non-null    float64\n",
      " 13  J            76 non-null     float64\n",
      " 14  heartrate    451 non-null    float64\n",
      " 15  class        452 non-null    int64  \n",
      "dtypes: float64(5), int64(11)\n",
      "memory usage: 56.6 KB\n"
     ]
    }
   ],
   "source": [
    "dados.info()"
   ]
  }
 ],
 "metadata": {
  "kernelspec": {
   "display_name": "Python 3",
   "language": "python",
   "name": "python3"
  },
  "language_info": {
   "codemirror_mode": {
    "name": "ipython",
    "version": 3
   },
   "file_extension": ".py",
   "mimetype": "text/x-python",
   "name": "python",
   "nbconvert_exporter": "python",
   "pygments_lexer": "ipython3",
   "version": "3.10.7"
  }
 },
 "nbformat": 4,
 "nbformat_minor": 2
}
